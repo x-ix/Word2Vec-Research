{
  "nbformat": 4,
  "nbformat_minor": 0,
  "metadata": {
    "colab": {
      "provenance": []
    },
    "kernelspec": {
      "name": "python3",
      "display_name": "Python 3"
    },
    "language_info": {
      "name": "python"
    }
  },
  "cells": [
    {
      "cell_type": "markdown",
      "source": [
        "#imports"
      ],
      "metadata": {
        "id": "W_Pb4cMJjsR-"
      }
    },
    {
      "cell_type": "code",
      "source": [
        "import torch\n",
        "import torch.nn\n",
        "import pandas as pd\n",
        "from torch.utils.data import Dataset, DataLoader\n",
        "import torch.optim as optim\n",
        "from collections import Counter"
      ],
      "metadata": {
        "id": "8Bjriir_bn5v"
      },
      "execution_count": null,
      "outputs": []
    },
    {
      "cell_type": "code",
      "execution_count": null,
      "metadata": {
        "colab": {
          "base_uri": "https://localhost:8080/"
        },
        "id": "4zM2OLR0Xv0E",
        "outputId": "7ad3283e-c84b-47df-f9e2-79b28d134440"
      },
      "outputs": [
        {
          "output_type": "stream",
          "name": "stdout",
          "text": [
            "--2023-10-24 16:04:39--  https://huggingface.co/datasets/iix/Parquet_FIles/resolve/main/CL_de-en.parquet\n",
            "Resolving huggingface.co (huggingface.co)... 18.172.134.124, 18.172.134.4, 18.172.134.88, ...\n",
            "Connecting to huggingface.co (huggingface.co)|18.172.134.124|:443... connected.\n",
            "HTTP request sent, awaiting response... 302 Found\n",
            "Location: https://cdn-lfs.huggingface.co/repos/fc/9a/fc9a918f6fbc19623c4d012eb54560ce331bef7d7208a8ec162d38c5b4a37971/fef73cfc728100a32c8d71bd9ff2b9c59326db9405d500ee29af8c854c0fb8b1?response-content-disposition=attachment%3B+filename*%3DUTF-8%27%27CL_de-en.parquet%3B+filename%3D%22CL_de-en.parquet%22%3B&Expires=1698422679&Policy=eyJTdGF0ZW1lbnQiOlt7IkNvbmRpdGlvbiI6eyJEYXRlTGVzc1RoYW4iOnsiQVdTOkVwb2NoVGltZSI6MTY5ODQyMjY3OX19LCJSZXNvdXJjZSI6Imh0dHBzOi8vY2RuLWxmcy5odWdnaW5nZmFjZS5jby9yZXBvcy9mYy85YS9mYzlhOTE4ZjZmYmMxOTYyM2M0ZDAxMmViNTQ1NjBjZTMzMWJlZjdkNzIwOGE4ZWMxNjJkMzhjNWI0YTM3OTcxL2ZlZjczY2ZjNzI4MTAwYTMyYzhkNzFiZDlmZjJiOWM1OTMyNmRiOTQwNWQ1MDBlZTI5YWY4Yzg1NGMwZmI4YjE%7EcmVzcG9uc2UtY29udGVudC1kaXNwb3NpdGlvbj0qIn1dfQ__&Signature=p-hA4G7FzLVG-9Musam2h-zwO44AVwmydOU21AOQkIsqdqjEcF%7EpQLxaRdaSxnTzF4Bc2VboMGxVtH41PGEvOsEcG0aRy%7ER62Wr7J2q5hHavGvE%7EkHTZmC2RjCR7of8ACR6nSEWMHu6MPTuxoGuopRGHtWw6g5atnOXMjmDv7sSCxHWTPeaWITfIUf3haLTx22VCzJz7XoEMv08u%7EJxxn6dNYxk3KFxIgZiO7TIWmf%7ELnPQUescQU2dEl%7EzdFz%7ESh4ilvYlyssrM54ggUjk5RtaDkpgyvX2PwGCeoJhK8RYFLI5R5TynfOkMuEX9I3dCidbFYfxASRiX5TFvtXRinw__&Key-Pair-Id=KVTP0A1DKRTAX [following]\n",
            "--2023-10-24 16:04:39--  https://cdn-lfs.huggingface.co/repos/fc/9a/fc9a918f6fbc19623c4d012eb54560ce331bef7d7208a8ec162d38c5b4a37971/fef73cfc728100a32c8d71bd9ff2b9c59326db9405d500ee29af8c854c0fb8b1?response-content-disposition=attachment%3B+filename*%3DUTF-8%27%27CL_de-en.parquet%3B+filename%3D%22CL_de-en.parquet%22%3B&Expires=1698422679&Policy=eyJTdGF0ZW1lbnQiOlt7IkNvbmRpdGlvbiI6eyJEYXRlTGVzc1RoYW4iOnsiQVdTOkVwb2NoVGltZSI6MTY5ODQyMjY3OX19LCJSZXNvdXJjZSI6Imh0dHBzOi8vY2RuLWxmcy5odWdnaW5nZmFjZS5jby9yZXBvcy9mYy85YS9mYzlhOTE4ZjZmYmMxOTYyM2M0ZDAxMmViNTQ1NjBjZTMzMWJlZjdkNzIwOGE4ZWMxNjJkMzhjNWI0YTM3OTcxL2ZlZjczY2ZjNzI4MTAwYTMyYzhkNzFiZDlmZjJiOWM1OTMyNmRiOTQwNWQ1MDBlZTI5YWY4Yzg1NGMwZmI4YjE%7EcmVzcG9uc2UtY29udGVudC1kaXNwb3NpdGlvbj0qIn1dfQ__&Signature=p-hA4G7FzLVG-9Musam2h-zwO44AVwmydOU21AOQkIsqdqjEcF%7EpQLxaRdaSxnTzF4Bc2VboMGxVtH41PGEvOsEcG0aRy%7ER62Wr7J2q5hHavGvE%7EkHTZmC2RjCR7of8ACR6nSEWMHu6MPTuxoGuopRGHtWw6g5atnOXMjmDv7sSCxHWTPeaWITfIUf3haLTx22VCzJz7XoEMv08u%7EJxxn6dNYxk3KFxIgZiO7TIWmf%7ELnPQUescQU2dEl%7EzdFz%7ESh4ilvYlyssrM54ggUjk5RtaDkpgyvX2PwGCeoJhK8RYFLI5R5TynfOkMuEX9I3dCidbFYfxASRiX5TFvtXRinw__&Key-Pair-Id=KVTP0A1DKRTAX\n",
            "Resolving cdn-lfs.huggingface.co (cdn-lfs.huggingface.co)... 18.154.185.64, 18.154.185.27, 18.154.185.26, ...\n",
            "Connecting to cdn-lfs.huggingface.co (cdn-lfs.huggingface.co)|18.154.185.64|:443... connected.\n",
            "HTTP request sent, awaiting response... 200 OK\n",
            "Length: 20665913 (20M) [binary/octet-stream]\n",
            "Saving to: ‘CL_de-en.parquet’\n",
            "\n",
            "CL_de-en.parquet    100%[===================>]  19.71M   102MB/s    in 0.2s    \n",
            "\n",
            "2023-10-24 16:04:40 (102 MB/s) - ‘CL_de-en.parquet’ saved [20665913/20665913]\n",
            "\n"
          ]
        }
      ],
      "source": [
        "!wget https://huggingface.co/datasets/iix/Parquet_FIles/resolve/main/CL_de-en.parquet -O CL_de-en.parquet"
      ]
    },
    {
      "cell_type": "code",
      "source": [
        "df = pd.read_parquet('CL_de-en.parquet')"
      ],
      "metadata": {
        "id": "QBYAKpdubjf3"
      },
      "execution_count": null,
      "outputs": []
    },
    {
      "cell_type": "code",
      "source": [
        "df.sample(5)"
      ],
      "metadata": {
        "colab": {
          "base_uri": "https://localhost:8080/",
          "height": 276
        },
        "id": "qZL87Dfkb4yk",
        "outputId": "c174b842-7eb3-425f-ca3d-8e1ef96ccb48"
      },
      "execution_count": null,
      "outputs": [
        {
          "output_type": "execute_result",
          "data": {
            "text/plain": [
              "                                                      de  \\\n",
              "94252  Sobald die Verträge unterzeichnet sind, erfolg...   \n",
              "50978  Diesen Software-Technologie-Projekten sollen i...   \n",
              "24645  Der Beratende Ausschuß für industrielle Forsch...   \n",
              "7383   Außerdem wurde im Zusammenhang mit dem RP7 ein...   \n",
              "92905  Sie sind in einem erweiterten Europa im Hinbli...   \n",
              "\n",
              "                                                      en  \n",
              "94252  Once the contracts are signed, projects usuall...  \n",
              "50978  ECU 35.96 million of the financing will go to ...  \n",
              "24645  The European Commission's Industrial Research ...  \n",
              "7383   A working paper has also been prepared in the ...  \n",
              "92905  They are of increasing importance in an enlarg...  "
            ],
            "text/html": [
              "\n",
              "  <div id=\"df-e81ce27b-84c8-40d3-a5f8-948cfd00bd24\" class=\"colab-df-container\">\n",
              "    <div>\n",
              "<style scoped>\n",
              "    .dataframe tbody tr th:only-of-type {\n",
              "        vertical-align: middle;\n",
              "    }\n",
              "\n",
              "    .dataframe tbody tr th {\n",
              "        vertical-align: top;\n",
              "    }\n",
              "\n",
              "    .dataframe thead th {\n",
              "        text-align: right;\n",
              "    }\n",
              "</style>\n",
              "<table border=\"1\" class=\"dataframe\">\n",
              "  <thead>\n",
              "    <tr style=\"text-align: right;\">\n",
              "      <th></th>\n",
              "      <th>de</th>\n",
              "      <th>en</th>\n",
              "    </tr>\n",
              "  </thead>\n",
              "  <tbody>\n",
              "    <tr>\n",
              "      <th>94252</th>\n",
              "      <td>Sobald die Verträge unterzeichnet sind, erfolg...</td>\n",
              "      <td>Once the contracts are signed, projects usuall...</td>\n",
              "    </tr>\n",
              "    <tr>\n",
              "      <th>50978</th>\n",
              "      <td>Diesen Software-Technologie-Projekten sollen i...</td>\n",
              "      <td>ECU 35.96 million of the financing will go to ...</td>\n",
              "    </tr>\n",
              "    <tr>\n",
              "      <th>24645</th>\n",
              "      <td>Der Beratende Ausschuß für industrielle Forsch...</td>\n",
              "      <td>The European Commission's Industrial Research ...</td>\n",
              "    </tr>\n",
              "    <tr>\n",
              "      <th>7383</th>\n",
              "      <td>Außerdem wurde im Zusammenhang mit dem RP7 ein...</td>\n",
              "      <td>A working paper has also been prepared in the ...</td>\n",
              "    </tr>\n",
              "    <tr>\n",
              "      <th>92905</th>\n",
              "      <td>Sie sind in einem erweiterten Europa im Hinbli...</td>\n",
              "      <td>They are of increasing importance in an enlarg...</td>\n",
              "    </tr>\n",
              "  </tbody>\n",
              "</table>\n",
              "</div>\n",
              "    <div class=\"colab-df-buttons\">\n",
              "\n",
              "  <div class=\"colab-df-container\">\n",
              "    <button class=\"colab-df-convert\" onclick=\"convertToInteractive('df-e81ce27b-84c8-40d3-a5f8-948cfd00bd24')\"\n",
              "            title=\"Convert this dataframe to an interactive table.\"\n",
              "            style=\"display:none;\">\n",
              "\n",
              "  <svg xmlns=\"http://www.w3.org/2000/svg\" height=\"24px\" viewBox=\"0 -960 960 960\">\n",
              "    <path d=\"M120-120v-720h720v720H120Zm60-500h600v-160H180v160Zm220 220h160v-160H400v160Zm0 220h160v-160H400v160ZM180-400h160v-160H180v160Zm440 0h160v-160H620v160ZM180-180h160v-160H180v160Zm440 0h160v-160H620v160Z\"/>\n",
              "  </svg>\n",
              "    </button>\n",
              "\n",
              "  <style>\n",
              "    .colab-df-container {\n",
              "      display:flex;\n",
              "      gap: 12px;\n",
              "    }\n",
              "\n",
              "    .colab-df-convert {\n",
              "      background-color: #E8F0FE;\n",
              "      border: none;\n",
              "      border-radius: 50%;\n",
              "      cursor: pointer;\n",
              "      display: none;\n",
              "      fill: #1967D2;\n",
              "      height: 32px;\n",
              "      padding: 0 0 0 0;\n",
              "      width: 32px;\n",
              "    }\n",
              "\n",
              "    .colab-df-convert:hover {\n",
              "      background-color: #E2EBFA;\n",
              "      box-shadow: 0px 1px 2px rgba(60, 64, 67, 0.3), 0px 1px 3px 1px rgba(60, 64, 67, 0.15);\n",
              "      fill: #174EA6;\n",
              "    }\n",
              "\n",
              "    .colab-df-buttons div {\n",
              "      margin-bottom: 4px;\n",
              "    }\n",
              "\n",
              "    [theme=dark] .colab-df-convert {\n",
              "      background-color: #3B4455;\n",
              "      fill: #D2E3FC;\n",
              "    }\n",
              "\n",
              "    [theme=dark] .colab-df-convert:hover {\n",
              "      background-color: #434B5C;\n",
              "      box-shadow: 0px 1px 3px 1px rgba(0, 0, 0, 0.15);\n",
              "      filter: drop-shadow(0px 1px 2px rgba(0, 0, 0, 0.3));\n",
              "      fill: #FFFFFF;\n",
              "    }\n",
              "  </style>\n",
              "\n",
              "    <script>\n",
              "      const buttonEl =\n",
              "        document.querySelector('#df-e81ce27b-84c8-40d3-a5f8-948cfd00bd24 button.colab-df-convert');\n",
              "      buttonEl.style.display =\n",
              "        google.colab.kernel.accessAllowed ? 'block' : 'none';\n",
              "\n",
              "      async function convertToInteractive(key) {\n",
              "        const element = document.querySelector('#df-e81ce27b-84c8-40d3-a5f8-948cfd00bd24');\n",
              "        const dataTable =\n",
              "          await google.colab.kernel.invokeFunction('convertToInteractive',\n",
              "                                                    [key], {});\n",
              "        if (!dataTable) return;\n",
              "\n",
              "        const docLinkHtml = 'Like what you see? Visit the ' +\n",
              "          '<a target=\"_blank\" href=https://colab.research.google.com/notebooks/data_table.ipynb>data table notebook</a>'\n",
              "          + ' to learn more about interactive tables.';\n",
              "        element.innerHTML = '';\n",
              "        dataTable['output_type'] = 'display_data';\n",
              "        await google.colab.output.renderOutput(dataTable, element);\n",
              "        const docLink = document.createElement('div');\n",
              "        docLink.innerHTML = docLinkHtml;\n",
              "        element.appendChild(docLink);\n",
              "      }\n",
              "    </script>\n",
              "  </div>\n",
              "\n",
              "\n",
              "<div id=\"df-199bc871-f121-4c16-8389-9e4bf9d082dd\">\n",
              "  <button class=\"colab-df-quickchart\" onclick=\"quickchart('df-199bc871-f121-4c16-8389-9e4bf9d082dd')\"\n",
              "            title=\"Suggest charts.\"\n",
              "            style=\"display:none;\">\n",
              "\n",
              "<svg xmlns=\"http://www.w3.org/2000/svg\" height=\"24px\"viewBox=\"0 0 24 24\"\n",
              "     width=\"24px\">\n",
              "    <g>\n",
              "        <path d=\"M19 3H5c-1.1 0-2 .9-2 2v14c0 1.1.9 2 2 2h14c1.1 0 2-.9 2-2V5c0-1.1-.9-2-2-2zM9 17H7v-7h2v7zm4 0h-2V7h2v10zm4 0h-2v-4h2v4z\"/>\n",
              "    </g>\n",
              "</svg>\n",
              "  </button>\n",
              "\n",
              "<style>\n",
              "  .colab-df-quickchart {\n",
              "      --bg-color: #E8F0FE;\n",
              "      --fill-color: #1967D2;\n",
              "      --hover-bg-color: #E2EBFA;\n",
              "      --hover-fill-color: #174EA6;\n",
              "      --disabled-fill-color: #AAA;\n",
              "      --disabled-bg-color: #DDD;\n",
              "  }\n",
              "\n",
              "  [theme=dark] .colab-df-quickchart {\n",
              "      --bg-color: #3B4455;\n",
              "      --fill-color: #D2E3FC;\n",
              "      --hover-bg-color: #434B5C;\n",
              "      --hover-fill-color: #FFFFFF;\n",
              "      --disabled-bg-color: #3B4455;\n",
              "      --disabled-fill-color: #666;\n",
              "  }\n",
              "\n",
              "  .colab-df-quickchart {\n",
              "    background-color: var(--bg-color);\n",
              "    border: none;\n",
              "    border-radius: 50%;\n",
              "    cursor: pointer;\n",
              "    display: none;\n",
              "    fill: var(--fill-color);\n",
              "    height: 32px;\n",
              "    padding: 0;\n",
              "    width: 32px;\n",
              "  }\n",
              "\n",
              "  .colab-df-quickchart:hover {\n",
              "    background-color: var(--hover-bg-color);\n",
              "    box-shadow: 0 1px 2px rgba(60, 64, 67, 0.3), 0 1px 3px 1px rgba(60, 64, 67, 0.15);\n",
              "    fill: var(--button-hover-fill-color);\n",
              "  }\n",
              "\n",
              "  .colab-df-quickchart-complete:disabled,\n",
              "  .colab-df-quickchart-complete:disabled:hover {\n",
              "    background-color: var(--disabled-bg-color);\n",
              "    fill: var(--disabled-fill-color);\n",
              "    box-shadow: none;\n",
              "  }\n",
              "\n",
              "  .colab-df-spinner {\n",
              "    border: 2px solid var(--fill-color);\n",
              "    border-color: transparent;\n",
              "    border-bottom-color: var(--fill-color);\n",
              "    animation:\n",
              "      spin 1s steps(1) infinite;\n",
              "  }\n",
              "\n",
              "  @keyframes spin {\n",
              "    0% {\n",
              "      border-color: transparent;\n",
              "      border-bottom-color: var(--fill-color);\n",
              "      border-left-color: var(--fill-color);\n",
              "    }\n",
              "    20% {\n",
              "      border-color: transparent;\n",
              "      border-left-color: var(--fill-color);\n",
              "      border-top-color: var(--fill-color);\n",
              "    }\n",
              "    30% {\n",
              "      border-color: transparent;\n",
              "      border-left-color: var(--fill-color);\n",
              "      border-top-color: var(--fill-color);\n",
              "      border-right-color: var(--fill-color);\n",
              "    }\n",
              "    40% {\n",
              "      border-color: transparent;\n",
              "      border-right-color: var(--fill-color);\n",
              "      border-top-color: var(--fill-color);\n",
              "    }\n",
              "    60% {\n",
              "      border-color: transparent;\n",
              "      border-right-color: var(--fill-color);\n",
              "    }\n",
              "    80% {\n",
              "      border-color: transparent;\n",
              "      border-right-color: var(--fill-color);\n",
              "      border-bottom-color: var(--fill-color);\n",
              "    }\n",
              "    90% {\n",
              "      border-color: transparent;\n",
              "      border-bottom-color: var(--fill-color);\n",
              "    }\n",
              "  }\n",
              "</style>\n",
              "\n",
              "  <script>\n",
              "    async function quickchart(key) {\n",
              "      const quickchartButtonEl =\n",
              "        document.querySelector('#' + key + ' button');\n",
              "      quickchartButtonEl.disabled = true;  // To prevent multiple clicks.\n",
              "      quickchartButtonEl.classList.add('colab-df-spinner');\n",
              "      try {\n",
              "        const charts = await google.colab.kernel.invokeFunction(\n",
              "            'suggestCharts', [key], {});\n",
              "      } catch (error) {\n",
              "        console.error('Error during call to suggestCharts:', error);\n",
              "      }\n",
              "      quickchartButtonEl.classList.remove('colab-df-spinner');\n",
              "      quickchartButtonEl.classList.add('colab-df-quickchart-complete');\n",
              "    }\n",
              "    (() => {\n",
              "      let quickchartButtonEl =\n",
              "        document.querySelector('#df-199bc871-f121-4c16-8389-9e4bf9d082dd button');\n",
              "      quickchartButtonEl.style.display =\n",
              "        google.colab.kernel.accessAllowed ? 'block' : 'none';\n",
              "    })();\n",
              "  </script>\n",
              "</div>\n",
              "    </div>\n",
              "  </div>\n"
            ]
          },
          "metadata": {},
          "execution_count": 6
        }
      ]
    },
    {
      "cell_type": "markdown",
      "source": [
        "#hyper-params"
      ],
      "metadata": {
        "id": "x1UXy5nEjxP3"
      }
    },
    {
      "cell_type": "code",
      "source": [
        "dl_batch_size = 32  # dataloader batch size"
      ],
      "metadata": {
        "id": "7zjsdeRCj7aF"
      },
      "execution_count": null,
      "outputs": []
    },
    {
      "cell_type": "code",
      "source": [
        "#vocab_size = 10000  # Adjust based on your dataset"
      ],
      "metadata": {
        "id": "xhLDFdtCmIHx"
      },
      "execution_count": null,
      "outputs": []
    },
    {
      "cell_type": "code",
      "source": [
        "embedding_dim = 200  # Adjust as needed"
      ],
      "metadata": {
        "id": "uET0HgOumJXr"
      },
      "execution_count": null,
      "outputs": []
    },
    {
      "cell_type": "code",
      "source": [
        "context_size = 2  # Adjust the context window size"
      ],
      "metadata": {
        "id": "quhska_YmK2U"
      },
      "execution_count": null,
      "outputs": []
    },
    {
      "cell_type": "code",
      "source": [
        "num_samples = 5  # Number of negative samples per target-context pair"
      ],
      "metadata": {
        "id": "5DCIhaObmPfW"
      },
      "execution_count": null,
      "outputs": []
    },
    {
      "cell_type": "code",
      "source": [
        "weights = torch.Tensor([0.75, 0.25])  # Weights for positive and negative samples, can be adjusted"
      ],
      "metadata": {
        "id": "EOUdbBYzmRaV"
      },
      "execution_count": null,
      "outputs": []
    },
    {
      "cell_type": "code",
      "source": [
        "#word_frequencies = torch.Tensor([0.1, 0.5, 0.01, ...])  # Adjust based on your dataset"
      ],
      "metadata": {
        "id": "6y0pFn6gmWtV"
      },
      "execution_count": null,
      "outputs": []
    },
    {
      "cell_type": "code",
      "source": [
        "subsampling_threshold = 1e-5"
      ],
      "metadata": {
        "id": "vmB7JkL-mZ6i"
      },
      "execution_count": null,
      "outputs": []
    },
    {
      "cell_type": "code",
      "source": [
        "lr = 0.01"
      ],
      "metadata": {
        "id": "zZVDbDjdFEbz"
      },
      "execution_count": null,
      "outputs": []
    },
    {
      "cell_type": "code",
      "source": [
        "num_epochs = 10  # Adjust as needed"
      ],
      "metadata": {
        "id": "4Eh-_rUhFDU4"
      },
      "execution_count": null,
      "outputs": []
    },
    {
      "cell_type": "markdown",
      "source": [
        "#code#"
      ],
      "metadata": {
        "id": "kZNVkML7j2q7"
      }
    },
    {
      "cell_type": "code",
      "source": [
        "# Assuming 'df' contains columns 'source' and 'target' for source and target sentences.\n",
        "\n",
        "class TranslationDataset(Dataset):\n",
        "    def __init__(self, df):\n",
        "        self.df = df\n",
        "\n",
        "    def __len__(self):\n",
        "        return len(self.df)\n",
        "\n",
        "    def __getitem__(self, idx):\n",
        "        source_sentence = self.df.iloc[idx]['source']\n",
        "        target_sentence = self.df.iloc[idx]['target']\n",
        "        return source_sentence, target_sentence\n",
        "\n",
        "# Create an instance of the TranslationDataset\n",
        "translation_dataset = TranslationDataset(df)\n",
        "\n",
        "# Create a DataLoader for batching and shuffling\n",
        "data_loader = DataLoader(translation_dataset, batch_size=dl_batch_size, shuffle=True)\n",
        "\n",
        "# Now, 'data_loader' can be used for training your Word2Vec model.\n"
      ],
      "metadata": {
        "id": "itSU8RAbb_Bp"
      },
      "execution_count": null,
      "outputs": []
    },
    {
      "cell_type": "code",
      "source": [
        "# Assuming 'df' contains columns 'de' and 'en' for the respective text\n",
        "german_text = df['de'].str.cat()  # Combine all German sentences\n",
        "english_text = df['en'].str.cat()  # Combine all English sentences\n",
        "\n",
        "# Tokenize words in both languages\n",
        "german_words = german_text.split()  # Tokenize German words\n",
        "english_words = english_text.split()  # Tokenize English words\n",
        "\n",
        "# Calculate word frequencies using a Counter for both languages\n",
        "german_frequencies = Counter(german_words)\n",
        "english_frequencies = Counter(english_words)\n",
        "\n",
        "# Combine the counts for both languages\n",
        "combined_frequencies = german_frequencies + english_frequencies\n",
        "\n",
        "# Convert to a tensor\n",
        "word_frequencies = torch.Tensor([combined_frequencies[word] for word in vocab])\n",
        "\n",
        "# Assuming 'german_words' and 'english_words' have been defined previously\n",
        "# Combine the words from both languages\n",
        "all_words = german_words + english_words\n",
        "\n",
        "# Create a vocabulary of unique words\n",
        "vocabulary = list(set(all_words))\n",
        "\n",
        "vocab_size = len(vocabulary)"
      ],
      "metadata": {
        "id": "ySGt0xkJnRbR"
      },
      "execution_count": null,
      "outputs": []
    },
    {
      "cell_type": "code",
      "source": [
        "class Word2Vec(nn.Module):\n",
        "    def __init__(self, vocab_size, embedding_dim, context_size, cbow=True):\n",
        "        super(Word2Vec, self).__init()\n",
        "        self.embedding = nn.Embedding(vocab_size, embedding_dim)\n",
        "        self.cbow = cbow\n",
        "\n",
        "    def forward(self, target, context):\n",
        "        if self.cbow:\n",
        "            # CBOW model\n",
        "            target_embedding = self.embedding(context)\n",
        "            context_out = self.embedding(target)\n",
        "            scores = torch.mm(target_embedding, context_out.t())\n",
        "        else:\n",
        "            # Skip-gram model\n",
        "            target_embedding = self.embedding(target)\n",
        "            context_out = self.embedding(context)\n",
        "            scores = torch.mm(target_embedding, context_out.t())\n",
        "\n",
        "        return scores\n",
        "\n",
        "def negative_sampling_loss(input, target, num_samples, weights):\n",
        "    loss = F.cross_entropy(input, target, weight=weights, reduction='mean')\n",
        "    return loss"
      ],
      "metadata": {
        "id": "hJyPPxhHjjyE"
      },
      "execution_count": null,
      "outputs": []
    },
    {
      "cell_type": "code",
      "source": [
        "loss_function = negative_sampling_loss"
      ],
      "metadata": {
        "id": "AD93TZLEmva7"
      },
      "execution_count": null,
      "outputs": []
    },
    {
      "cell_type": "code",
      "source": [
        "skip_gram_model = Word2Vec(vocab_size, embedding_dim, context_size, cbow=False)"
      ],
      "metadata": {
        "id": "ZiVEwXdBmNFg"
      },
      "execution_count": null,
      "outputs": []
    },
    {
      "cell_type": "code",
      "source": [
        "# Define the subsampling threshold\n",
        "subsampling_threshold = 1e-5\n",
        "\n",
        "# Calculate word_probs\n",
        "total_word_count = sum(word_frequencies)\n",
        "word_probs = torch.sqrt(subsampling_threshold / (word_frequencies / total_word_count))"
      ],
      "metadata": {
        "id": "SgFs3WYime_f"
      },
      "execution_count": null,
      "outputs": []
    },
    {
      "cell_type": "code",
      "source": [
        "# Define an optimizer (e.g., SGD) and move the model to the device (e.g., GPU if available)\n",
        "device = torch.device(\"cuda\" if torch.cuda.is_available() else \"cpu\")\n",
        "skip_gram_model.to(device)\n",
        "optimizer = optim.SGD(skip_gram_model.parameters(), lr = lr)\n",
        "\n",
        "for epoch in range(num_epochs):\n",
        "    for target, context in data_loader:\n",
        "        # Move data to the same device as the model\n",
        "        target, context = target.to(device), context.to(device)\n",
        "\n",
        "        optimizer.zero_grad()\n",
        "        scores = skip_gram_model(target, context)\n",
        "\n",
        "        # Implement your loss function here\n",
        "        loss = loss_function(scores, context, num_samples, weights)\n",
        "\n",
        "        loss.backward()\n",
        "        optimizer.step()"
      ],
      "metadata": {
        "id": "kdD437kemiki"
      },
      "execution_count": null,
      "outputs": []
    },
    {
      "cell_type": "code",
      "source": [
        "cbow_model = Word2Vec(vocab_size, embedding_dim, context_size, cbow=True)\n",
        "cbow_model.to(device)  # Move the model to the appropriate device\n",
        "\n",
        "# Define an optimizer for CBOW\n",
        "cbow_optimizer = optim.SGD(cbow_model.parameters(), lr = lr)\n",
        "\n",
        "# Training loop for CBOW\n",
        "for epoch in range(num_epochs):\n",
        "    for target, context in data_loader:\n",
        "        target, context = target.to(device), context.to(device)\n",
        "        cbow_optimizer.zero_grad()\n",
        "        scores = cbow_model(target, context)\n",
        "        loss = loss_function(scores, context, num_samples, weights)\n",
        "        loss.backward()\n",
        "        cbow_optimizer.step()"
      ],
      "metadata": {
        "id": "hSY93aLoJ1HQ"
      },
      "execution_count": null,
      "outputs": []
    }
  ]
}